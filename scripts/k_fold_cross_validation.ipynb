{
 "cells": [
  {
   "cell_type": "raw",
   "id": "8c07d0c98b05d5e0",
   "metadata": {
    "collapsed": false
   },
   "source": [
    "SIB - P7 \n",
    "\n",
    "A Jupyter Notebook with examples of how to use the linear models. 30/10/2023"
   ]
  },
  {
   "cell_type": "code",
   "execution_count": 1,
   "id": "eba2b29f5d105812",
   "metadata": {
    "ExecuteTime": {
     "end_time": "2023-10-19T15:47:20.203819536Z",
     "start_time": "2023-10-19T15:47:20.161034407Z"
    },
    "collapsed": false
   },
   "outputs": [],
   "source": [
    "import numpy as np\n",
    "\n",
    "from si.io.csv_file import read_csv\n",
    "from si.models.logistic_regression import LogisticRegression\n",
    "from si.model_selection.cross_validate import k_fold_cross_validation"
   ]
  },
  {
   "cell_type": "code",
   "execution_count": 2,
   "id": "e9fbaf91184532dc",
   "metadata": {
    "ExecuteTime": {
     "end_time": "2023-10-19T15:47:21.604054812Z",
     "start_time": "2023-10-19T15:47:21.593679904Z"
    },
    "collapsed": false
   },
   "outputs": [
    {
     "data": {
      "text/plain": [
       "array([[5., 1., 1., ..., 1., 1., 1.],\n",
       "       [2., 1., 1., ..., 2., 1., 1.],\n",
       "       [2., 1., 1., ..., 3., 1., 1.],\n",
       "       ...,\n",
       "       [5., 2., 2., ..., 1., 1., 2.],\n",
       "       [2., 3., 2., ..., 3., 1., 1.],\n",
       "       [7., 6., 6., ..., 7., 1., 1.]])"
      ]
     },
     "execution_count": 2,
     "metadata": {},
     "output_type": "execute_result"
    }
   ],
   "source": [
    "data = read_csv('../datasets/breast_bin/breast-bin.csv', sep=',', features=True, label=True)\n",
    "data.X"
   ]
  },
  {
   "cell_type": "code",
   "execution_count": 3,
   "id": "77a06325311e9ae9",
   "metadata": {
    "ExecuteTime": {
     "end_time": "2023-10-19T15:47:22.151514149Z",
     "start_time": "2023-10-19T15:47:22.145780973Z"
    },
    "collapsed": false
   },
   "outputs": [
    {
     "data": {
      "text/plain": [
       "array([0., 0., 0., 1., 0., 0., 0., 0., 1., 0., 0., 0., 0., 0., 0., 0., 0.,\n",
       "       0., 1., 0., 0., 0., 0., 0., 1., 1., 1., 1., 1., 1., 0., 1., 1., 0.,\n",
       "       1., 0., 1., 0., 0., 1., 1., 0., 0., 0., 0., 1., 1., 0., 0., 0., 1.,\n",
       "       0., 0., 0., 0., 0., 0., 0., 0., 1., 1., 0., 0., 0., 0., 0., 0., 0.,\n",
       "       0., 0., 1., 1., 0., 0., 0., 0., 0., 0., 1., 0., 0., 0., 1., 1., 1.,\n",
       "       0., 0., 1., 0., 1., 0., 1., 0., 0., 1., 0., 0., 0., 0., 0., 0., 0.,\n",
       "       1., 1., 1., 1., 0., 0., 0., 0., 0., 1., 0., 0., 0., 1., 1., 0., 0.,\n",
       "       0., 0., 0., 0., 0., 0., 0., 0., 0., 0., 0., 0., 0., 1., 1., 0., 1.,\n",
       "       1., 0., 1., 1., 0., 0., 0., 0., 0., 0., 1., 0., 1., 0., 0., 1., 0.,\n",
       "       0., 0., 0., 0., 0., 0., 0., 0., 0., 0., 1., 0., 1., 0., 0., 0., 0.,\n",
       "       0., 1., 1., 1., 0., 0., 0., 1., 0., 0., 0., 0., 1., 1., 0., 0., 0.,\n",
       "       0., 1., 0., 0., 0., 0., 0., 0., 1., 1., 0., 1., 1., 0., 1., 0., 0.,\n",
       "       0., 0., 0., 0., 1., 0., 1., 0., 0., 0., 0., 0., 0., 0., 0., 1., 1.,\n",
       "       0., 1., 0., 0., 0., 0., 0., 1., 1., 0., 0., 1., 0., 1., 1., 0., 1.,\n",
       "       1., 0., 0., 1., 1., 1., 1., 0., 1., 1., 0., 0., 0., 0., 1., 0., 1.,\n",
       "       1., 1., 1., 0., 1., 1., 0., 0., 0., 0., 1., 0., 0., 0., 0., 0., 0.,\n",
       "       0., 1., 1., 1., 0., 1., 0., 0., 1., 1., 1., 1., 1., 0., 0., 0., 0.,\n",
       "       0., 1., 0., 0., 0., 0., 0., 1., 0., 1., 1., 0., 1., 0., 1., 0., 0.,\n",
       "       0., 0., 1., 1., 0., 1., 0., 0., 0., 0., 1., 0., 1., 0., 0., 0., 0.,\n",
       "       1., 1., 0., 0., 0., 1., 0., 0., 0., 0., 1., 0., 1., 0., 1., 1., 0.,\n",
       "       0., 0., 0., 0., 0., 0., 1., 0., 0., 0., 0., 0., 0., 0., 0., 0., 1.,\n",
       "       0., 0., 0., 0., 0., 0., 0., 1., 0., 1., 1., 1., 1., 0., 0., 0., 0.,\n",
       "       1., 0., 0., 0., 0., 0., 0., 0., 1., 1., 0., 0., 0., 0., 0., 0., 1.,\n",
       "       0., 0., 1., 0., 0., 0., 0., 0., 1., 0., 1., 0., 1., 0., 0., 0., 0.,\n",
       "       1., 1., 1., 1., 0., 0., 1., 0., 1., 0., 0., 1., 0., 1., 1., 1., 0.,\n",
       "       1., 0., 0., 1., 1., 1., 0., 0., 0., 0., 0., 0., 1., 0., 1., 1., 0.,\n",
       "       1., 0., 1., 1., 0., 1., 1., 0., 0., 1., 0., 1., 0., 0., 0., 0., 1.,\n",
       "       0., 0., 1., 0., 0., 1., 0., 0., 0., 0., 0., 1., 1., 1., 1., 0., 0.,\n",
       "       0., 0., 1., 1., 0., 0., 0., 0., 1., 0., 0., 0., 0., 1., 1., 0., 0.,\n",
       "       0., 0., 1., 1., 0., 0., 1., 0., 1., 0., 1., 0., 0., 0., 1., 0., 0.,\n",
       "       1., 1., 0., 1., 0., 0., 1., 1., 0., 0., 1., 1., 1., 1., 0., 0., 1.,\n",
       "       0., 1., 0., 0., 1., 0., 0., 0., 1., 1., 1., 0., 0., 1., 0., 0., 0.,\n",
       "       0., 1., 0., 0., 1., 1., 1., 1., 0., 1., 0., 0., 0., 0., 1., 0., 0.,\n",
       "       0., 0., 0., 0., 0., 0., 1., 0., 0., 1., 0., 0., 0., 0., 0., 0., 1.,\n",
       "       0., 0., 0., 0., 0., 0., 0., 1., 1., 0., 1., 0., 0., 1., 1., 1., 1.,\n",
       "       1., 0., 0., 0., 0., 0., 0., 0., 1., 1., 0., 1., 0., 1., 0., 0., 1.,\n",
       "       0., 0., 0., 1., 0., 0., 1., 1., 0., 0., 1., 0., 1., 1., 1., 0., 0.,\n",
       "       0., 0., 0., 0., 0., 1., 1., 1., 1., 1., 0., 1., 0., 0., 0., 1., 0.,\n",
       "       0., 1., 0., 0., 0., 0., 1., 0., 1., 0., 1., 1., 0., 0., 1., 1., 0.,\n",
       "       1., 0., 1., 0., 0., 0., 0., 0., 0., 1., 1., 0., 0., 0., 1., 0., 1.,\n",
       "       0., 1., 0., 0., 0., 0., 0., 0., 0., 1., 0., 1., 0., 0., 0., 0., 0.,\n",
       "       1.])"
      ]
     },
     "execution_count": 3,
     "metadata": {},
     "output_type": "execute_result"
    }
   ],
   "source": [
    "data.y"
   ]
  },
  {
   "cell_type": "code",
   "execution_count": 4,
   "id": "9d8d0f973ac1a216",
   "metadata": {
    "ExecuteTime": {
     "end_time": "2023-10-19T15:47:23.273600197Z",
     "start_time": "2023-10-19T15:47:23.253527333Z"
    },
    "collapsed": false
   },
   "outputs": [
    {
     "name": "stdout",
     "output_type": "stream",
     "text": [
      "fold_score:  0.9424460431654677\n",
      "fold_score:  0.9640287769784173\n",
      "fold_score:  0.9640287769784173\n",
      "fold_score:  0.9712230215827338\n",
      "fold_score:  0.9928057553956835\n"
     ]
    },
    {
     "data": {
      "text/plain": [
       "[0.9424460431654677,\n",
       " 0.9640287769784173,\n",
       " 0.9640287769784173,\n",
       " 0.9712230215827338,\n",
       " 0.9928057553956835]"
      ]
     },
     "execution_count": 4,
     "metadata": {},
     "output_type": "execute_result"
    }
   ],
   "source": [
    "lr = LogisticRegression()\n",
    "# note that in a real application, you should leave a test set aside\n",
    "scores = k_fold_cross_validation(model=lr, dataset=data, cv=5)\n",
    "scores"
   ]
  },
  {
   "cell_type": "code",
   "execution_count": 5,
   "id": "c28682b2",
   "metadata": {},
   "outputs": [
    {
     "name": "stdout",
     "output_type": "stream",
     "text": [
      "fold_score:  0.9698275862068966\n",
      "fold_score:  0.9525862068965517\n",
      "fold_score:  0.978448275862069\n",
      "Before CV: Dataset type: <class 'si.data.dataset.Dataset'>\n",
      "fold_score:  0.9655172413793104\n",
      "fold_score:  0.978448275862069\n",
      "fold_score:  0.9568965517241379\n",
      "After CV: Dataset type: <class 'si.data.dataset.Dataset'>\n",
      "Before CV: Dataset type: <class 'si.data.dataset.Dataset'>\n",
      "fold_score:  0.9568965517241379\n",
      "fold_score:  0.9827586206896551\n",
      "fold_score:  0.9612068965517241\n",
      "After CV: Dataset type: <class 'si.data.dataset.Dataset'>\n",
      "Before CV: Dataset type: <class 'si.data.dataset.Dataset'>\n",
      "fold_score:  0.9612068965517241\n",
      "fold_score:  0.9741379310344828\n",
      "fold_score:  0.9655172413793104\n",
      "After CV: Dataset type: <class 'si.data.dataset.Dataset'>\n",
      "Before CV: Dataset type: <class 'si.data.dataset.Dataset'>\n",
      "fold_score:  0.9827586206896551\n",
      "fold_score:  0.9698275862068966\n",
      "fold_score:  0.9482758620689655\n",
      "After CV: Dataset type: <class 'si.data.dataset.Dataset'>\n",
      "Before CV: Dataset type: <class 'si.data.dataset.Dataset'>\n",
      "fold_score:  0.9741379310344828\n",
      "fold_score:  0.9612068965517241\n",
      "fold_score:  0.9655172413793104\n",
      "After CV: Dataset type: <class 'si.data.dataset.Dataset'>\n",
      "Before CV: Dataset type: <class 'si.data.dataset.Dataset'>\n",
      "fold_score:  0.9568965517241379\n",
      "fold_score:  0.9741379310344828\n",
      "fold_score:  0.9698275862068966\n",
      "After CV: Dataset type: <class 'si.data.dataset.Dataset'>\n",
      "Before CV: Dataset type: <class 'si.data.dataset.Dataset'>\n",
      "fold_score:  0.9568965517241379\n",
      "fold_score:  0.9913793103448276\n",
      "fold_score:  0.9525862068965517\n",
      "After CV: Dataset type: <class 'si.data.dataset.Dataset'>\n",
      "Before CV: Dataset type: <class 'si.data.dataset.Dataset'>\n",
      "fold_score:  0.9698275862068966\n",
      "fold_score:  0.9612068965517241\n",
      "fold_score:  0.9698275862068966\n",
      "After CV: Dataset type: <class 'si.data.dataset.Dataset'>\n",
      "Before CV: Dataset type: <class 'si.data.dataset.Dataset'>\n",
      "fold_score:  0.9568965517241379\n",
      "fold_score:  0.9655172413793104\n",
      "fold_score:  0.978448275862069\n",
      "After CV: Dataset type: <class 'si.data.dataset.Dataset'>\n",
      "Before CV: Dataset type: <class 'si.data.dataset.Dataset'>\n",
      "fold_score:  0.9568965517241379\n",
      "fold_score:  0.9741379310344828\n",
      "fold_score:  0.9698275862068966\n",
      "After CV: Dataset type: <class 'si.data.dataset.Dataset'>\n"
     ]
    }
   ],
   "source": [
    "from si.model_selection.randomized_search import randomized_search_cv\n",
    "from si.model_selection.cross_validate import k_fold_cross_validation \n",
    "\n",
    "hyperparameter_grid = {'l2_penalty': np.linspace(1, 10, 10) ,'alpha': np.linspace(0.001, 0.0001, 100), \n",
    "                       'max_iter': np.linspace(1000, 2000, 200) }\n",
    "\n",
    "scores = k_fold_cross_validation(model=lr, dataset=data, cv=3)\n",
    "\n",
    "dict_results = randomized_search_cv(model=lr, dataset=data, cv=3,\n",
    "                                    hyperparameter_grid=hyperparameter_grid, \n",
    "                                    n_iter=10)"
   ]
  },
  {
   "cell_type": "code",
   "execution_count": 6,
   "id": "7196b6009dcad5ca",
   "metadata": {
    "ExecuteTime": {
     "end_time": "2023-10-19T15:47:24.277770454Z",
     "start_time": "2023-10-19T15:47:24.275820335Z"
    },
    "collapsed": false
   },
   "outputs": [
    {
     "name": "stdout",
     "output_type": "stream",
     "text": [
      "Accuracy: 0.97 (+/- 0.01)\n"
     ]
    }
   ],
   "source": [
    "print(f\"Accuracy: {np.mean(scores):.2f} (+/- {np.std(scores):.2f})\")"
   ]
  }
 ],
 "metadata": {
  "kernelspec": {
   "display_name": "si",
   "language": "python",
   "name": "python3"
  },
  "language_info": {
   "codemirror_mode": {
    "name": "ipython",
    "version": 3
   },
   "file_extension": ".py",
   "mimetype": "text/x-python",
   "name": "python",
   "nbconvert_exporter": "python",
   "pygments_lexer": "ipython3",
   "version": "3.12.5"
  }
 },
 "nbformat": 4,
 "nbformat_minor": 5
}
